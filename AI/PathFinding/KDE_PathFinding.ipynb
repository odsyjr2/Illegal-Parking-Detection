{
 "cells": [
  {
   "cell_type": "code",
   "execution_count": 1,
   "id": "14ea2fc5",
   "metadata": {},
   "outputs": [],
   "source": [
    "import math\n",
    "from typing import List\n",
    "import numpy as np\n",
    "import pandas as pd\n",
    "from sklearn.model_selection import GridSearchCV\n",
    "from sklearn.neighbors import KernelDensity\n",
    "from scipy.spatial.distance import cdist\n",
    "import folium"
   ]
  },
  {
   "cell_type": "code",
   "execution_count": 2,
   "id": "b6d7fddb",
   "metadata": {},
   "outputs": [],
   "source": [
    "# 데이터 파일 경로 및 파라미터 설정\n",
    "viol_file = \"../Data/CCTV기반단속개별건수.csv\"\n",
    "cctv_file = \"../Data/12_04_08_E_CCTV정보.xlsx\"\n",
    "coverage_ratio = 0.7\n",
    "min_nodes = 50\n",
    "bandwidths = [200.0, 300.0, 400.0]\n",
    "penalty_factor = 5.0\n",
    "time_limit = 120\n",
    "num_cars = 1\n",
    "start_node = 0"
   ]
  },
  {
   "cell_type": "code",
   "execution_count": 3,
   "id": "0809bf6d",
   "metadata": {},
   "outputs": [],
   "source": [
    "# 하버사인 거리 함수\n",
    "def haversine(lat1: float, lon1: float, lat2: float, lon2: float) -> float:\n",
    "    R = 6371000\n",
    "    phi1, phi2 = math.radians(lat1), math.radians(lat2)\n",
    "    dphi = math.radians(lat2 - lat1)\n",
    "    dlambda = math.radians(lon2 - lon1)\n",
    "    a = (\n",
    "        math.sin(dphi / 2.0) ** 2\n",
    "        + math.cos(phi1) * math.cos(phi2) * math.sin(dlambda / 2.0) ** 2\n",
    "    )\n",
    "    return 2 * R * math.atan2(math.sqrt(a), math.sqrt(1 - a))\n",
    "\n",
    "# 평면 좌표 변환 함수\n",
    "def to_xy(lat: np.ndarray, lon: np.ndarray, lat0: float) -> np.ndarray:\n",
    "    R = 6371000\n",
    "    x = np.deg2rad(lon) * R * np.cos(np.deg2rad(lat0))\n",
    "    y = np.deg2rad(lat) * R\n",
    "    return np.column_stack((x, y))\n",
    "\n",
    "# KDE 모델 학습 함수\n",
    "def fit_kde(coords: np.ndarray, bandwidths: List[float]) -> KernelDensity:\n",
    "    sample_size = min(len(coords), 10000)\n",
    "    rng = np.random.default_rng(0)\n",
    "    idx = rng.choice(len(coords), size=sample_size, replace=False)\n",
    "    coords_sample = coords[idx]\n",
    "    params = {\"bandwidth\": bandwidths}\n",
    "    grid = GridSearchCV(KernelDensity(kernel=\"gaussian\"), params, cv=3, n_jobs=-1)\n",
    "    grid.fit(coords_sample)\n",
    "    return grid.best_estimator_"
   ]
  },
  {
   "cell_type": "code",
   "execution_count": 4,
   "id": "7240e0f8",
   "metadata": {},
   "outputs": [
    {
     "name": "stderr",
     "output_type": "stream",
     "text": [
      "c:\\Users\\odsyj\\AppData\\Local\\Programs\\Python\\Python311\\Lib\\site-packages\\openpyxl\\styles\\stylesheet.py:237: UserWarning: Workbook contains no default style, apply openpyxl's default\n",
      "  warn(\"Workbook contains no default style, apply openpyxl's default\")\n"
     ]
    }
   ],
   "source": [
    "# 데이터 읽기 및 전처리\n",
    "viol = pd.read_csv(viol_file, encoding=\"cp949\").dropna(subset=[\"위도\", \"경도\"])\n",
    "cctv = pd.read_excel(cctv_file, engine=\"openpyxl\").dropna(\n",
    "    subset=[\"WGS84위도\", \"WGS84경도\"]\n",
    ")\n",
    "\n",
    "# 좌표 변환 및 KDE\n",
    "lat0 = float(cctv[\"WGS84위도\"].mean())\n",
    "viol_coords_xy = to_xy(viol[\"위도\"].to_numpy(), viol[\"경도\"].to_numpy(), lat0)\n",
    "cctv_coords_xy = to_xy(\n",
    "    cctv[\"WGS84위도\"].to_numpy(), cctv[\"WGS84경도\"].to_numpy(), lat0\n",
    ")\n",
    "kde = fit_kde(viol_coords_xy, bandwidths)"
   ]
  },
  {
   "cell_type": "code",
   "execution_count": 5,
   "id": "4963360c",
   "metadata": {},
   "outputs": [],
   "source": [
    "# 밀도 가중치 계산 및 핵심 CCTV 선택\n",
    "log_dens = kde.score_samples(cctv_coords_xy)\n",
    "cctv[\"density_weight\"] = np.exp(log_dens)\n",
    "dens_min = float(cctv[\"density_weight\"].min())\n",
    "dens_max = float(cctv[\"density_weight\"].max())\n",
    "if dens_max - dens_min > 0:\n",
    "    cctv[\"dens_norm\"] = (cctv[\"density_weight\"] - dens_min) / (dens_max - dens_min)\n",
    "else:\n",
    "    cctv[\"dens_norm\"] = 0.0\n",
    "\n",
    "cctv_sorted = cctv.sort_values(\"density_weight\", ascending=False).reset_index(drop=True)\n",
    "dens_cumsum = cctv_sorted[\"density_weight\"].cumsum()\n",
    "dens_total = float(cctv_sorted[\"density_weight\"].sum())\n",
    "dens_ratio = dens_cumsum / dens_total\n",
    "selected_idx = np.where(dens_ratio <= coverage_ratio)[0]\n",
    "if len(selected_idx) < min_nodes:\n",
    "    selected_idx = np.arange(min(min_nodes, len(cctv_sorted)))\n",
    "selected = cctv_sorted.loc[selected_idx].reset_index(drop=True)\n",
    "\n",
    "# 거리 행렬 및 패널티 계산\n",
    "lat_lon = selected[[\"WGS84위도\", \"WGS84경도\"]].to_numpy()\n",
    "lat_rad = np.deg2rad(lat_lon[:, 0])\n",
    "lon_rad = np.deg2rad(lat_lon[:, 1])\n",
    "lat1 = lat_rad[:, None]\n",
    "lat2 = lat_rad[None, :]\n",
    "lon1 = lon_rad[:, None]\n",
    "lon2 = lon_rad[None, :]\n",
    "dphi = lat2 - lat1\n",
    "dlambda = lon2 - lon1\n",
    "a = np.sin(dphi / 2) ** 2 + np.cos(lat1) * np.cos(lat2) * np.sin(dlambda / 2) ** 2\n",
    "dist_matrix = (2 * 6371000 * np.arctan2(np.sqrt(a), np.sqrt(1 - a))).astype(int)\n",
    "\n",
    "avg_dist = float(dist_matrix.mean())\n",
    "base_penalty = avg_dist * penalty_factor\n",
    "selected[\"penalty\"] = base_penalty * (1.0 - selected[\"dens_norm\"])"
   ]
  },
  {
   "cell_type": "code",
   "execution_count": null,
   "id": "12a618c4",
   "metadata": {},
   "outputs": [],
   "source": [
    "# OR-Tools 최적화 및 결과 출력\n",
    "from ortools.constraint_solver import pywrapcp, routing_enums_pb2\n",
    "\n",
    "num_nodes = len(selected)\n",
    "manager = pywrapcp.RoutingIndexManager(num_nodes, num_cars, start_node)\n",
    "routing = pywrapcp.RoutingModel(manager)\n",
    "\n",
    "def distance_callback(from_index, to_index):\n",
    "    from_node = manager.IndexToNode(from_index)\n",
    "    to_node = manager.IndexToNode(to_index)\n",
    "    return int(dist_matrix[from_node, to_node])\n",
    "\n",
    "transit_callback_index = routing.RegisterTransitCallback(distance_callback)\n",
    "routing.SetArcCostEvaluatorOfAllVehicles(transit_callback_index)\n",
    "\n",
    "for idx in range(1, num_nodes):\n",
    "    penalty_value = int(max(1, selected.loc[idx, \"penalty\"]))\n",
    "    routing.AddDisjunction([manager.NodeToIndex(idx)], penalty_value)\n",
    "\n",
    "params = pywrapcp.DefaultRoutingSearchParameters()\n",
    "params.first_solution_strategy = routing_enums_pb2.FirstSolutionStrategy.PATH_CHEAPEST_ARC\n",
    "params.local_search_metaheuristic = routing_enums_pb2.LocalSearchMetaheuristic.GUIDED_LOCAL_SEARCH\n",
    "params.time_limit.seconds = time_limit\n",
    "\n",
    "solution = routing.SolveWithParameters(params)\n",
    "\n",
    "if solution:\n",
    "    route = []\n",
    "    total_dist = 0\n",
    "    index = routing.Start(0)\n",
    "    while not routing.IsEnd(index):\n",
    "        node = manager.IndexToNode(index)\n",
    "        route.append(node)\n",
    "        prev_index = index\n",
    "        index = solution.Value(routing.NextVar(index))\n",
    "        total_dist += routing.GetArcCostForVehicle(prev_index, index, 0)\n",
    "    route.append(manager.IndexToNode(index))\n",
    "    density_sum = selected.loc[route, \"density_weight\"].sum()\n",
    "    print(f\"방문 지점 수: {len(route)}\")\n",
    "    print(f\"총 이동거리: {total_dist/1000:.2f} km\")\n",
    "    print(f\"방문 지점의 밀도 가중치 합계: {density_sum:.3e}\")\n",
    "else:\n",
    "    print(\"솔루션을 찾지 못했습니다.\")"
   ]
  },
  {
   "cell_type": "code",
   "execution_count": null,
   "id": "534ad8d6",
   "metadata": {},
   "outputs": [
    {
     "name": "stdout",
     "output_type": "stream",
     "text": [
      "경로 지도가 'route_map_0.7.html' 파일로 저장되었습니다.\n"
     ]
    }
   ],
   "source": [
    "# Folium을 이용한 경로 시각화 및 HTML 저장\n",
    "center_lat = selected[\"WGS84위도\"].mean()\n",
    "center_lon = selected[\"WGS84경도\"].mean()\n",
    "m = folium.Map(location=[center_lat, center_lon], zoom_start=13)\n",
    "route_coords = selected.loc[route, [\"WGS84위도\", \"WGS84경도\"]].values.tolist()\n",
    "folium.PolyLine(route_coords, weight=5, opacity=0.7).add_to(m)\n",
    "for idx in route:\n",
    "    lat, lon = selected.loc[idx, [\"WGS84위도\", \"WGS84경도\"]]\n",
    "    folium.Marker([lat, lon], popup=str(idx)).add_to(m)\n",
    "\n",
    "# HTML 파일로 저장\n",
    "output_html = \"route_map_\"+str(coverage_ratio)+\".html\"\n",
    "m.save(output_html)\n",
    "print(f\"경로 지도가 '{output_html}' 파일로 저장되었습니다.\")"
   ]
  }
 ],
 "metadata": {
  "kernelspec": {
   "display_name": "Python 3",
   "language": "python",
   "name": "python3"
  },
  "language_info": {
   "codemirror_mode": {
    "name": "ipython",
    "version": 3
   },
   "file_extension": ".py",
   "mimetype": "text/x-python",
   "name": "python",
   "nbconvert_exporter": "python",
   "pygments_lexer": "ipython3",
   "version": "3.11.9"
  }
 },
 "nbformat": 4,
 "nbformat_minor": 5
}
