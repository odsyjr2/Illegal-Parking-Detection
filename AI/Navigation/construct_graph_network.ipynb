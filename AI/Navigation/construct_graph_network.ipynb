{
 "cells": [
  {
   "cell_type": "markdown",
   "id": "d39b2391",
   "metadata": {},
   "source": [
    "## import library"
   ]
  },
  {
   "cell_type": "code",
   "execution_count": null,
   "id": "d31f6723",
   "metadata": {},
   "outputs": [],
   "source": [
    "import osmnx as ox\n",
    "from geopy.distance import geodesic\n",
    "import networkx as nx\n",
    "import numpy as np\n",
    "import pandas as pd\n",
    "import matplotlib.pyplot as plt\n",
    "import seaborn as sns\n",
    "import folium\n",
    "from tqdm import tqdm"
   ]
  },
  {
   "cell_type": "code",
   "execution_count": null,
   "id": "302885fd",
   "metadata": {},
   "outputs": [],
   "source": [
    "## 그래프 예시\n",
    "\n",
    "# from geopy.distance import geodesic\n",
    "# import networkx as nx\n",
    "\n",
    "# # 노드 정의\n",
    "# locations = {\n",
    "#     \"A\": (37.492, 127.01),\n",
    "#     \"B\": (37.493, 127.012),\n",
    "#     \"C\": (37.495, 127.015)\n",
    "# }\n",
    "\n",
    "# G = nx.Graph()\n",
    "# for name, coord in locations.items():\n",
    "#     G.add_node(name, lat=coord[0], lon=coord[1])\n",
    "\n",
    "# # 거리 기반 엣지 추가\n",
    "# for n1 in locations:\n",
    "#     for n2 in locations:\n",
    "#         if n1 != n2:\n",
    "#             dist = geodesic(locations[n1], locations[n2]).meters\n",
    "#             G.add_edge(n1, n2, distance=dist)\n"
   ]
  },
  {
   "cell_type": "code",
   "execution_count": null,
   "id": "93272036",
   "metadata": {},
   "outputs": [],
   "source": [
    "# 1. 서초구의 도로망 그래프 불러오기\n",
    "G = ox.graph_from_place(\"Seocho-gu, Seoul, South Korea\", network_type='drive')\n",
    "\n",
    "# 2. 기본 정보 출력\n",
    "print(f\"노드 수: {len(G.nodes)}, 엣지 수: {len(G.edges)}\")\n",
    "\n",
    "# 3. 시각화 (선택)\n",
    "ox.plot_graph(G, figsize=(16, 16))"
   ]
  },
  {
   "cell_type": "code",
   "execution_count": null,
   "id": "c0ee3c19",
   "metadata": {},
   "outputs": [],
   "source": [
    "# 전국 cctv 정보\n",
    "cctv_info = pd.read_excel(\"../../../Data/전국CCTV표준데이터.xlsx\")\n",
    "cctv_info.head(3)"
   ]
  },
  {
   "cell_type": "code",
   "execution_count": null,
   "id": "ca2bd077",
   "metadata": {},
   "outputs": [],
   "source": [
    "# 1. 서초구 도로망 가져오기\n",
    "G = ox.graph_from_place(\"Seocho-gu, Seoul, South Korea\", network_type='drive')\n",
    "\n",
    "# 2. 그래프 → GeoDataFrame 변환\n",
    "nodes, edges = ox.graph_to_gdfs(G)\n",
    "\n",
    "# 3. 지도 생성\n",
    "seocho_center = [37.4836, 127.0326]\n",
    "m = folium.Map(location=seocho_center, zoom_start=13)\n",
    "\n",
    "# 4. 도로 엣지 시각화 (파란 선)\n",
    "for _, row in edges.iterrows():\n",
    "    coords = [(lat, lon) for lon, lat in row['geometry'].coords]\n",
    "    folium.PolyLine(locations=coords, color='blue', weight=2, opacity=0.6).add_to(m)\n",
    "\n",
    "# 5. 노드 시각화 (초록 점)\n",
    "for node_id, row in nodes.iterrows():\n",
    "    lat, lon = row['y'], row['x']\n",
    "    folium.CircleMarker(\n",
    "        location=[lat, lon],\n",
    "        radius=2,\n",
    "        color='green',\n",
    "        fill=True,\n",
    "        fill_opacity=0.7,\n",
    "        popup=f\"Node ID: {node_id}\"\n",
    "    ).add_to(m)\n",
    "\n",
    "# 6. CCTV 마커 시각화 (빨간 마커)\n",
    "cctv_info = pd.read_excel(\"../../../Data/전국CCTV표준데이터.xlsx\")\n",
    "seocho_cctv = cctv_info[cctv_info['소재지도로명주소'].str.contains(\"서초구\", na=False)]\n",
    "\n",
    "for _, row in seocho_cctv.iterrows():\n",
    "    lat, lon = row['WGS84위도'], row['WGS84경도']\n",
    "    popup_text = f\"{row['소재지도로명주소']}<br>카메라: {row['카메라대수']}대\"\n",
    "    folium.Marker(\n",
    "        location=[lat, lon],\n",
    "        popup=popup_text,\n",
    "        icon=folium.Icon(color='red', icon='camera')\n",
    "    ).add_to(m)\n",
    "\n",
    "# 7. 저장 또는 출력\n",
    "m.save(\"seocho_full_graph_with_cctv_nodes.html\")\n",
    "m\n"
   ]
  },
  {
   "cell_type": "code",
   "execution_count": null,
   "id": "6d2ba652",
   "metadata": {},
   "outputs": [],
   "source": [
    "# 서초구 개별 주정차단속 현황\n",
    "illegal_info = pd.read_csv(\"../../../Data/2201-2312개별서초구주정차단속현황.csv\", encoding='cp949')\n",
    "illegal_info = illegal_info[illegal_info['단속장소'].notnull()]\n",
    "\n",
    "# test 데이터 분리 (23.12월 자료)\n",
    "# illegal_info = illegal_info[illegal_info['단속일시'].notnull()]\n",
    "illegal_info.head(3)"
   ]
  },
  {
   "cell_type": "code",
   "execution_count": null,
   "id": "9b27bb39",
   "metadata": {},
   "outputs": [],
   "source": [
    "tqdm.pandas()\n",
    "\n",
    "def get_latlon_from_address(address):\n",
    "    try:\n",
    "        loc = ox.geocode(address)\n",
    "        return loc[0], loc[1]\n",
    "    except:\n",
    "        return None, None\n",
    "    \n",
    "illegal_info[['lat', 'lon']] = illegal_info['단속장소'].progress_apply(lambda x: pd.Series(get_latlon_from_address(x)))"
   ]
  },
  {
   "cell_type": "code",
   "execution_count": null,
   "id": "53caccf3",
   "metadata": {},
   "outputs": [],
   "source": [
    "G = ox.graph_from_place(\"Seocho-gu, Seoul, South Korea\", network_type='drive')\n",
    "\n",
    "illegal_info['node'] = illegal_info.apply(lambda row: ox.distance.nearest_nodes(G, row['lon'], row['lat']) if pd.notnull(row['lat']) else None, axis=1)\n",
    "\n"
   ]
  }
 ],
 "metadata": {
  "kernelspec": {
   "display_name": "bigProject",
   "language": "python",
   "name": "python3"
  },
  "language_info": {
   "codemirror_mode": {
    "name": "ipython",
    "version": 3
   },
   "file_extension": ".py",
   "mimetype": "text/x-python",
   "name": "python",
   "nbconvert_exporter": "python",
   "pygments_lexer": "ipython3",
   "version": "3.11.13"
  }
 },
 "nbformat": 4,
 "nbformat_minor": 5
}
