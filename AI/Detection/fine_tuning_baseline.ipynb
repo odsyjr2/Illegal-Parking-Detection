{
 "cells": [
  {
   "cell_type": "markdown",
   "id": "b535e91e",
   "metadata": {},
   "source": [
    "# Import Library"
   ]
  },
  {
   "cell_type": "code",
   "execution_count": null,
   "id": "ea366349",
   "metadata": {},
   "outputs": [],
   "source": [
    "!pip install ultralytics opencv-python tqdm huggingface_hub"
   ]
  },
  {
   "cell_type": "code",
   "execution_count": null,
   "id": "eb3c542e",
   "metadata": {},
   "outputs": [],
   "source": [
    "! pip install torch torchvision torchaudio --index-url https://download.pytorch.org/whl/cu121 # cuda 12.1 기준"
   ]
  },
  {
   "cell_type": "code",
   "execution_count": null,
   "id": "12acc902",
   "metadata": {},
   "outputs": [],
   "source": [
    "! pip install numpy==1.25.2 --force-reinstall"
   ]
  },
  {
   "cell_type": "code",
   "execution_count": null,
   "id": "a155d908",
   "metadata": {},
   "outputs": [],
   "source": [
    "import os\n",
    "import json\n",
    "import cv2\n",
    "from glob import glob\n",
    "from tqdm import tqdm\n",
    "from ultralytics import YOLO\n",
    "import numpy as np\n",
    "\n",
    "from datetime import datetime"
   ]
  },
  {
   "cell_type": "markdown",
   "id": "745e221b",
   "metadata": {},
   "source": [
    "# 2. Json -> YOLO txt 변환"
   ]
  },
  {
   "cell_type": "code",
   "execution_count": null,
   "id": "22d7baef",
   "metadata": {},
   "outputs": [],
   "source": [
    "def convert_to_yolo(json_file_path, output_dir):\n",
    "    \"\"\"\n",
    "    JSON 파일을 읽어 YOLO 포맷의 txt 파일로 변환합니다.\n",
    "    \"\"\"\n",
    "    try:\n",
    "        with open(json_file_path, 'r', encoding='utf-8') as f:\n",
    "            data = json.load(f)\n",
    "\n",
    "        # 이미지 크기 정보 추출\n",
    "        resolution = data.get(\"meta\", {}).get(\"Resolution\", \"0x0\").split('x')\n",
    "        if len(resolution) != 2:\n",
    "            # print(f\"Skipping {json_file_path}: Invalid resolution format.\")\n",
    "            return\n",
    "            \n",
    "        img_width, img_height = int(resolution[0]), int(resolution[1])\n",
    "        if img_width == 0 or img_height == 0:\n",
    "            # print(f\"Skipping {json_file_path}: Image width or height is zero.\")\n",
    "            return\n",
    "\n",
    "        # 어노테이션 정보 추출\n",
    "        annotations = data.get(\"annotations\", {}).get(\"Bbox Annotation\", {})\n",
    "        boxes = annotations.get(\"Box\", [])\n",
    "        \n",
    "        if not boxes:\n",
    "            # Bounding Box가 없는 경우, 빈 txt 파일 생성\n",
    "            base_filename = os.path.basename(json_file_path)\n",
    "            txt_filename = os.path.splitext(base_filename)[0] + \".txt\"\n",
    "            open(os.path.join(output_dir, txt_filename), 'w').close()\n",
    "            return\n",
    "\n",
    "        yolo_data = []\n",
    "        for box in boxes:\n",
    "            # YOLO 포맷으로 변환\n",
    "            # 현재는 단일 클래스(0)로 처리\n",
    "            class_id = 0  \n",
    "            x, y, w, h = box['x'], box['y'], box['w'], box['h']\n",
    "            \n",
    "            x_center = (x + w / 2) / img_width\n",
    "            y_center = (y + h / 2) / img_height\n",
    "            width_norm = w / img_width\n",
    "            height_norm = h / img_height\n",
    "            \n",
    "            yolo_data.append(f\"{class_id} {x_center:.6f} {y_center:.6f} {width_norm:.6f} {height_norm:.6f}\")\n",
    "\n",
    "        # YOLO 포맷으로 파일 저장\n",
    "        base_filename = os.path.basename(json_file_path)\n",
    "        txt_filename = os.path.splitext(base_filename)[0] + \".txt\"\n",
    "        \n",
    "        with open(os.path.join(output_dir, txt_filename), 'w') as f:\n",
    "            f.write(\"\\n\".join(yolo_data))\n",
    "\n",
    "    except Exception as e:\n",
    "        print(f\"Error processing {json_file_path}: {e}\")\n",
    "\n",
    "def process_dataset(dataset_path):\n",
    "    \"\"\"\n",
    "    'train'과 'val' 폴더에 대해 변환 작업을 수행합니다.\n",
    "    \"\"\"\n",
    "    for split in [\"train\", \"val\"]:\n",
    "        json_dir = os.path.join(dataset_path, split, \"annotations\")\n",
    "        output_dir = os.path.join(dataset_path, split, \"labels\")\n",
    "\n",
    "        if not os.path.exists(json_dir):\n",
    "            print(f\"Directory not found: {json_dir}\")\n",
    "            continue\n",
    "\n",
    "        os.makedirs(output_dir, exist_ok=True)\n",
    "        \n",
    "        json_files = glob(os.path.join(json_dir, \"*.json\"))\n",
    "        print(f\"Found {len(json_files)} json files in {json_dir}\")\n",
    "\n",
    "        for json_file in tqdm(json_files, desc=f\"Converting {split} JSONs to YOLO format\"):\n",
    "            convert_to_yolo(json_file, output_dir)\n",
    "        \n",
    "        print(f\"Finished processing for {split} set. Labels are in {output_dir}\")"
   ]
  },
  {
   "cell_type": "code",
   "execution_count": null,
   "id": "29af226d",
   "metadata": {},
   "outputs": [],
   "source": [
    "# 한번만 실행\n",
    "root_path = \"C:/Users/chobh/Desktop/빅프로젝트\"\n",
    "dataset_base_path = os.path.join(root_path, \"custom_dataset\")\n",
    "process_dataset(dataset_base_path)"
   ]
  },
  {
   "cell_type": "markdown",
   "id": "9dc83275",
   "metadata": {},
   "source": [
    "# 3. YOLO Fine tuning"
   ]
  },
  {
   "cell_type": "code",
   "execution_count": null,
   "id": "a86d3c2f",
   "metadata": {},
   "outputs": [],
   "source": [
    "model = YOLO('yolov8n.pt')  # nano, 또는 yolov8s.pt 등 다른 가중치 사용 가능"
   ]
  },
  {
   "cell_type": "code",
   "execution_count": null,
   "id": "01d70dfc",
   "metadata": {},
   "outputs": [],
   "source": [
    "results = model.train(\n",
    "    data=os.path.join('./data.yaml'),\n",
    "    epochs=1,       # 필요에 따라 조정\n",
    "    imgsz=640,\n",
    "    batch=16,        # 메모리에 따라 조정\n",
    "    device=0         # GPU 사용\n",
    ")\n"
   ]
  },
  {
   "cell_type": "markdown",
   "id": "c1196aa5",
   "metadata": {},
   "source": [
    "# 4. 모델 추론"
   ]
  },
  {
   "cell_type": "code",
   "execution_count": null,
   "id": "65549b48",
   "metadata": {},
   "outputs": [],
   "source": [
    "model = YOLO('runs/detect/train/weights/best.pt')"
   ]
  },
  {
   "cell_type": "code",
   "execution_count": null,
   "id": "2b906b5b",
   "metadata": {},
   "outputs": [],
   "source": [
    "# 단일 이미지 추론\n",
    "val_img_path = os.path.join(dataset_base_path, 'val/images/33_20210704_7454-0-0600.jpg')\n",
    "results = model.predict(val_img_path, save=True, conf=0.25, device=0)"
   ]
  },
  {
   "cell_type": "code",
   "execution_count": null,
   "id": "67145131",
   "metadata": {},
   "outputs": [],
   "source": [
    "# 전체 평가\n",
    "metrics = model.val(\n",
    "    data=os.path.join(root_path, 'data.yaml'),\n",
    "    batch=16,\n",
    "    imgsz=640,\n",
    "    device=0\n",
    ")\n",
    "print(metrics)\n",
    "# map50, map50-95, precision, recall 등 주요 지표 출력\n"
   ]
  },
  {
   "cell_type": "markdown",
   "id": "436a80b8",
   "metadata": {},
   "source": [
    "# 1. YOLO는 차량을 감지하지만 그 차량이 불법인지는 안 알려줌\n",
    "\n",
    "# 따라서 촬영 시간 / 위치 / 규칙을 바탕으로 후처리 판단이 꼭 필요\n",
    "\n",
    "# 해당 함수는 이러한 판단 로직을 담당"
   ]
  },
  {
   "cell_type": "code",
   "execution_count": null,
   "id": "e8134ef7",
   "metadata": {},
   "outputs": [],
   "source": [
    "# 1. 불법 여부 판단 함수 추가\n",
    "def is_illegal_parking(location_code, timestamp_str):\n",
    "    rules = {\n",
    "        \"600\": (\"08:00\", \"20:00\"),\n",
    "        \"700\": (\"07:00\", \"22:00\"),\n",
    "    }\n",
    "\n",
    "    start_time, end_time = rules.get(location_code, (\"00:00\", \"00:00\"))\n",
    "    timestamp = datetime.strptime(timestamp_str, \"%Y%m%d_%H%M\")\n",
    "\n",
    "    start_dt = datetime.strptime(timestamp_str[:8] + \"_\" + start_time, \"%Y%m%d_%H:%M\")\n",
    "    end_dt = datetime.strptime(timestamp_str[:8] + \"_\" + end_time, \"%Y%m%d_%H:%M\")\n",
    "\n",
    "    return start_dt <= timestamp <= end_dt"
   ]
  },
  {
   "cell_type": "code",
   "execution_count": null,
   "id": "f5880c16",
   "metadata": {},
   "outputs": [],
   "source": [
    "# 2. YOLO 모델 불러오기 및 단일 이미지 추론\n",
    "model = YOLO('runs/detect/train/weights/best.pt')\n",
    "val_img_path = os.path.join(dataset_base_path, 'val/images/33_20210704_7454-0-0600.jpg')\n",
    "results = model.predict(val_img_path, save=True, conf=0.25, device=0)"
   ]
  },
  {
   "cell_type": "code",
   "execution_count": null,
   "id": "4e7dc37e",
   "metadata": {},
   "outputs": [],
   "source": [
    "# 3. 파일이름에서 시간 추출 후 판단\n",
    "filename = os.path.basename(val_img_path)  # 예: 33_20210704_7454-0-0600.jpg\n",
    "timestamp_part = filename.split('_')[1] + \"_\" + filename.split('_')[-1].split('.')[0]  # \"20210704_0600\"\n",
    "location_code = filename.split('_')[-1].split('-')[-1][:3]  # \"600\"\n",
    "\n",
    "if is_illegal_parking(location_code, timestamp_part):\n",
    "    print(\"불법주정차 감지!\")\n",
    "else:\n",
    "    print(\"정상 주차\")"
   ]
  },
  {
   "cell_type": "markdown",
   "id": "662ca07c",
   "metadata": {},
   "source": [
    "# 불법 주정차 시간대 추가"
   ]
  },
  {
   "cell_type": "code",
   "execution_count": null,
   "id": "60a90439",
   "metadata": {},
   "outputs": [],
   "source": [
    "import os\n",
    "from datetime import datetime\n",
    "import json\n",
    "\n",
    "# 1. 불법주정차 규칙 로딩 \n",
    "def load_restriction_rules(json_path):\n",
    "    with open(json_path, 'r', encoding='utf-8') as f:\n",
    "        return json.load(f)\n",
    "\n",
    "def is_illegal_parking(location_code, timestamp_str, rules_dict):\n",
    "    rule = rules_dict.get(location_code)\n",
    "    if not rule:\n",
    "        return False\n",
    "\n",
    "    start_time = rule.get(\"start_time\", \"00:00\")\n",
    "    end_time = rule.get(\"end_time\", \"00:00\")\n",
    "\n",
    "    timestamp = datetime.strptime(timestamp_str, \"%Y%m%d_%H%M\")\n",
    "    start_dt = datetime.strptime(timestamp_str[:8] + \"_\" + start_time, \"%Y%m%d_%H:%M\")\n",
    "    end_dt = datetime.strptime(timestamp_str[:8] + \"_\" + end_time, \"%Y%m%d_%H:%M\")\n",
    "\n",
    "    return start_dt <= timestamp <= end_dt\n",
    "\n",
    "#  2. 사용 \n",
    "#  결과 이미지 경로\n",
    "val_img_dir = \"runs/detect/predict\"\n",
    "restriction_path = \"./restricted_areas.json\"\n",
    "rules = load_restriction_rules(restriction_path)\n",
    "\n",
    "# 결과 이미지 하나씩 순회하며 불법 여부 판단\n",
    "for filename in os.listdir(val_img_dir):\n",
    "    if filename.endswith(\".jpg\"):\n",
    "        timestamp_part = filename.split('_')[1] + \"_\" + filename.split('_')[-1].split('.')[0]\n",
    "        location_code = filename.split('_')[-1].split('-')[-1][:3]\n",
    "\n",
    "        if is_illegal_parking(location_code, timestamp_part, rules):\n",
    "            print(f\" {filename}: 불법주정차 감지!\")\n",
    "        else:\n",
    "            print(f\" {filename}: 정상 주차\")\n"
   ]
  },
  {
   "cell_type": "markdown",
   "id": "bcd1f9ae",
   "metadata": {},
   "source": [
    "# 불법 주정차 공휴일 및 주말 제외 추가"
   ]
  },
  {
   "cell_type": "code",
   "execution_count": null,
   "id": "7e7b4a9e",
   "metadata": {},
   "outputs": [],
   "source": [
    "import json\n",
    "from datetime import datetime\n",
    "import calendar\n",
    "\n",
    "# 공휴일 리스트 (예시) - \"YYYYMMDD\" 형식\n",
    "KOREAN_HOLIDAYS = [\n",
    "    \"20250721\",  # 예시: 2025년 7월 21일\n",
    "    \"20250101\",  # 신정\n",
    "    \"20250210\",  # 설날\n",
    "    \"20250301\",  # 삼일절\n",
    "    \n",
    "]\n",
    "\n",
    "# 1. JSON에서 규칙 불러오기\n",
    "def load_restriction_rules(json_path):\n",
    "    with open(json_path, 'r', encoding='utf-8') as f:\n",
    "        rules = json.load(f)\n",
    "    return rules\n",
    "\n",
    "# 2. 주말/공휴일 여부 확인\n",
    "def is_weekend_or_holiday(timestamp):\n",
    "    date_str = timestamp.strftime(\"%Y%m%d\")\n",
    "    weekday = timestamp.weekday()  # 월(0) ~ 일(6)\n",
    "\n",
    "    return weekday >= 5 or date_str in KOREAN_HOLIDAYS\n",
    "\n",
    "# 3. 특정 지역 + 시간에 대해 불법 여부 판단\n",
    "def is_illegal_parking(location_code, timestamp_str, rules_dict):\n",
    "    rule = rules_dict.get(location_code)\n",
    "    if not rule:\n",
    "        return False  # 등록되지 않은 지역은 불법 아님 처리\n",
    "\n",
    "    start_time = rule.get(\"start_time\", \"00:00\")\n",
    "    end_time = rule.get(\"end_time\", \"00:00\")\n",
    "\n",
    "    timestamp = datetime.strptime(timestamp_str, \"%Y%m%d_%H%M\")\n",
    "    \n",
    "    #  주말/공휴일은 불법 아님 처리\n",
    "    if is_weekend_or_holiday(timestamp):\n",
    "        return False\n",
    "\n",
    "    start_dt = datetime.strptime(timestamp_str[:8] + \"_\" + start_time, \"%Y%m%d_%H:%M\")\n",
    "    end_dt = datetime.strptime(timestamp_str[:8] + \"_\" + end_time, \"%Y%m%d_%H:%M\")\n",
    "\n",
    "    return start_dt <= timestamp <= end_dt\n"
   ]
  },
  {
   "cell_type": "code",
   "execution_count": null,
   "id": "7617b63d",
   "metadata": {},
   "outputs": [],
   "source": [
    "# JSON 경로\n",
    "restriction_path = \"./restricted_areas.json\"\n",
    "rules = load_restriction_rules(restriction_path)\n",
    "\n",
    "# 예시 파일명: 33_20250721_7454-0-0600.jpg\n",
    "filename = os.path.basename(val_img_path)\n",
    "timestamp_part = filename.split('_')[1] + \"_\" + filename.split('_')[-1].split('.')[0]  # \"20250721_0600\"\n",
    "location_code = filename.split('_')[-1].split('-')[-1][:3]  # \"600\"\n",
    "\n",
    "# 판단\n",
    "if is_illegal_parking(location_code, timestamp_part, rules):\n",
    "    print(\"불법주정차 감지!\")\n",
    "else:\n",
    "    print(\"정상 주차 또는 예외일\")\n"
   ]
  },
  {
   "cell_type": "markdown",
   "id": "9d9cb4f7",
   "metadata": {},
   "source": [
    "# 좌표를 도로명주소로 변환 / Kakao에서 Rest api "
   ]
  },
  {
   "cell_type": "code",
   "execution_count": null,
   "id": "0da66b6d",
   "metadata": {},
   "outputs": [],
   "source": [
    "import requests\n",
    "import json\n",
    "from datetime import datetime\n",
    "\n",
    "# 1. 좌표 → 주소 (도로명주소 + 행정코드) 변환\n",
    "def reverse_geocode_kakao(x, y, api_key):\n",
    "    url = \"https://dapi.kakao.com/v2/local/geo/coord2address.json\"\n",
    "    headers = {\"Authorization\": f\"KakaoAK {api_key}\"}\n",
    "    params = {\"x\": x, \"y\": y}\n",
    "    \n",
    "    response = requests.get(url, headers=headers, params=params)\n",
    "    if response.status_code == 200:\n",
    "        documents = response.json().get(\"documents\")\n",
    "        if documents:\n",
    "            address_info = documents[0][\"road_address\"]\n",
    "            road_name = address_info[\"address_name\"]\n",
    "            b_code = documents[0][\"address\"][\"b_code\"]  # 행정동 코드\n",
    "            return road_name, b_code\n",
    "    return None, None\n",
    "\n",
    "# 2. 도로명주소 + 행정코드 → location_code 추출\n",
    "def load_area_mapping(json_path=\"./area_mapping.json\"):\n",
    "    with open(json_path, \"r\", encoding=\"utf-8\") as f:\n",
    "        return json.load(f)\n",
    "\n",
    "AREA_MAPPING = load_area_mapping()\n",
    "\n",
    "def get_location_code(road_name, admin_code):\n",
    "    info = AREA_MAPPING.get(road_name)\n",
    "    if info and info.get(\"admin_code\") == admin_code:\n",
    "        return info.get(\"location_code\")\n",
    "    return None\n",
    "\n",
    "# 3. location_code → 시간 기반 불법 여부 판단\n",
    "def load_restricted_areas(json_path=\"./restricted_areas.json\"):\n",
    "    with open(json_path, \"r\", encoding=\"utf-8\") as f:\n",
    "        return json.load(f)\n",
    "\n",
    "RESTRICTED_AREAS = load_restricted_areas()\n",
    "\n",
    "def is_illegal_parking(location_code, current_time):\n",
    "    location_info = RESTRICTED_AREAS.get(location_code)\n",
    "    if not location_info:\n",
    "        return False  # 제한 구역 아님\n",
    "\n",
    "    day_name = current_time.strftime('%A').lower()\n",
    "    now_time = current_time.time()\n",
    "    time_range = location_info[\"restricted_times\"].get(day_name)\n",
    "\n",
    "    if not time_range:\n",
    "        return False\n",
    "\n",
    "    start_time = datetime.strptime(time_range[\"start\"], \"%H:%M\").time()\n",
    "    end_time = datetime.strptime(time_range[\"end\"], \"%H:%M\").time()\n",
    "    return start_time <= now_time <= end_time\n",
    "\n",
    "# 4. 전체 흐름: YOLO 좌표 → 불법 여부 판단\n",
    "def process_detection(x, y, api_key):\n",
    "    road_name, admin_code = reverse_geocode_kakao(x, y, api_key)\n",
    "    if not road_name or not admin_code:\n",
    "        return False, \"주소 변환 실패\"\n",
    "\n",
    "    location_code = get_location_code(road_name, admin_code)\n",
    "    if not location_code:\n",
    "        return False, \"location_code 매핑 실패\"\n",
    "\n",
    "    now = datetime.now()\n",
    "    if is_illegal_parking(location_code, now):\n",
    "        return True, f\"불법 주정차 (위치: {road_name})\"\n",
    "    else:\n",
    "        return False, f\"합법 주정차 (위치: {road_name})\"\n"
   ]
  },
  {
   "cell_type": "code",
   "execution_count": null,
   "id": "799f8073",
   "metadata": {},
   "outputs": [],
   "source": [
    "if __name__ == \"__main__\":\n",
    "    API_KEY = \"YOUR_KAKAO_REST_API_KEY\"  # 실제 카카오 REST API 키로 대체\n",
    "    x, y = 127.0276, 37.4979  # 예: 강남역 근처 좌표\n",
    "\n",
    "    result, message = process_detection(x, y, API_KEY)\n",
    "    print(message)\n"
   ]
  }
 ],
 "metadata": {
  "kernelspec": {
   "display_name": "bigProject",
   "language": "python",
   "name": "python3"
  },
  "language_info": {
   "codemirror_mode": {
    "name": "ipython",
    "version": 3
   },
   "file_extension": ".py",
   "mimetype": "text/x-python",
   "name": "python",
   "nbconvert_exporter": "python",
   "pygments_lexer": "ipython3",
   "version": "3.11.13"
  }
 },
 "nbformat": 4,
 "nbformat_minor": 5
}
