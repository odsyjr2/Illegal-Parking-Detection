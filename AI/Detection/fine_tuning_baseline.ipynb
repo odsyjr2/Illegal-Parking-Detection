{
 "cells": [
  {
   "cell_type": "markdown",
   "id": "b535e91e",
   "metadata": {},
   "source": [
    "# Import Library"
   ]
  },
  {
   "cell_type": "code",
   "execution_count": null,
   "id": "ea366349",
   "metadata": {},
   "outputs": [],
   "source": [
    "!pip install ultralytics opencv-python tqdm huggingface_hub"
   ]
  },
  {
   "cell_type": "code",
   "execution_count": null,
   "id": "eb3c542e",
   "metadata": {},
   "outputs": [],
   "source": [
    "! pip install torch torchvision torchaudio --index-url https://download.pytorch.org/whl/cu121 # cuda 12.1 기준"
   ]
  },
  {
   "cell_type": "code",
   "execution_count": null,
   "id": "12acc902",
   "metadata": {},
   "outputs": [],
   "source": [
    "! pip install numpy==1.25.2 --force-reinstall"
   ]
  },
  {
   "cell_type": "code",
   "execution_count": null,
   "id": "a155d908",
   "metadata": {},
   "outputs": [],
   "source": [
    "import os\n",
    "import json\n",
    "import cv2\n",
    "from glob import glob\n",
    "from tqdm import tqdm\n",
    "from ultralytics import YOLO\n",
    "import numpy as np"
   ]
  },
  {
   "cell_type": "markdown",
   "id": "745e221b",
   "metadata": {},
   "source": [
    "# 2. Json -> YOLO txt 변환"
   ]
  },
  {
   "cell_type": "code",
   "execution_count": null,
   "id": "22d7baef",
   "metadata": {},
   "outputs": [],
   "source": [
    "def convert_to_yolo(json_file_path, output_dir):\n",
    "    \"\"\"\n",
    "    JSON 파일을 읽어 YOLO 포맷의 txt 파일로 변환합니다.\n",
    "    \"\"\"\n",
    "    try:\n",
    "        with open(json_file_path, 'r', encoding='utf-8') as f:\n",
    "            data = json.load(f)\n",
    "\n",
    "        # 이미지 크기 정보 추출\n",
    "        resolution = data.get(\"meta\", {}).get(\"Resolution\", \"0x0\").split('x')\n",
    "        if len(resolution) != 2:\n",
    "            # print(f\"Skipping {json_file_path}: Invalid resolution format.\")\n",
    "            return\n",
    "            \n",
    "        img_width, img_height = int(resolution[0]), int(resolution[1])\n",
    "        if img_width == 0 or img_height == 0:\n",
    "            # print(f\"Skipping {json_file_path}: Image width or height is zero.\")\n",
    "            return\n",
    "\n",
    "        # 어노테이션 정보 추출\n",
    "        annotations = data.get(\"annotations\", {}).get(\"Bbox Annotation\", {})\n",
    "        boxes = annotations.get(\"Box\", [])\n",
    "        \n",
    "        if not boxes:\n",
    "            # Bounding Box가 없는 경우, 빈 txt 파일 생성\n",
    "            base_filename = os.path.basename(json_file_path)\n",
    "            txt_filename = os.path.splitext(base_filename)[0] + \".txt\"\n",
    "            open(os.path.join(output_dir, txt_filename), 'w').close()\n",
    "            return\n",
    "\n",
    "        yolo_data = []\n",
    "        for box in boxes:\n",
    "            # YOLO 포맷으로 변환\n",
    "            # 현재는 단일 클래스(0)로 처리\n",
    "            class_id = 0  \n",
    "            x, y, w, h = box['x'], box['y'], box['w'], box['h']\n",
    "            \n",
    "            x_center = (x + w / 2) / img_width\n",
    "            y_center = (y + h / 2) / img_height\n",
    "            width_norm = w / img_width\n",
    "            height_norm = h / img_height\n",
    "            \n",
    "            yolo_data.append(f\"{class_id} {x_center:.6f} {y_center:.6f} {width_norm:.6f} {height_norm:.6f}\")\n",
    "\n",
    "        # YOLO 포맷으로 파일 저장\n",
    "        base_filename = os.path.basename(json_file_path)\n",
    "        txt_filename = os.path.splitext(base_filename)[0] + \".txt\"\n",
    "        \n",
    "        with open(os.path.join(output_dir, txt_filename), 'w') as f:\n",
    "            f.write(\"\\n\".join(yolo_data))\n",
    "\n",
    "    except Exception as e:\n",
    "        print(f\"Error processing {json_file_path}: {e}\")\n",
    "\n",
    "def process_dataset(dataset_path):\n",
    "    \"\"\"\n",
    "    'train'과 'val' 폴더에 대해 변환 작업을 수행합니다.\n",
    "    \"\"\"\n",
    "    for split in [\"train\", \"val\"]:\n",
    "        json_dir = os.path.join(dataset_path, split, \"annotations\")\n",
    "        output_dir = os.path.join(dataset_path, split, \"labels\")\n",
    "\n",
    "        if not os.path.exists(json_dir):\n",
    "            print(f\"Directory not found: {json_dir}\")\n",
    "            continue\n",
    "\n",
    "        os.makedirs(output_dir, exist_ok=True)\n",
    "        \n",
    "        json_files = glob(os.path.join(json_dir, \"*.json\"))\n",
    "        print(f\"Found {len(json_files)} json files in {json_dir}\")\n",
    "\n",
    "        for json_file in tqdm(json_files, desc=f\"Converting {split} JSONs to YOLO format\"):\n",
    "            convert_to_yolo(json_file, output_dir)\n",
    "        \n",
    "        print(f\"Finished processing for {split} set. Labels are in {output_dir}\")"
   ]
  },
  {
   "cell_type": "code",
   "execution_count": null,
   "id": "29af226d",
   "metadata": {},
   "outputs": [],
   "source": [
    "# 한번만 실행\n",
    "root_path = \"C:/Users/chobh/Desktop/빅프로젝트\"\n",
    "dataset_base_path = os.path.join(root_path, \"custom_dataset\")\n",
    "process_dataset(dataset_base_path)"
   ]
  },
  {
   "cell_type": "markdown",
   "id": "9dc83275",
   "metadata": {},
   "source": [
    "# 3. YOLO Fine tuning"
   ]
  },
  {
   "cell_type": "code",
   "execution_count": null,
   "id": "a86d3c2f",
   "metadata": {},
   "outputs": [],
   "source": [
    "model = YOLO('yolov8n.pt')  # nano, 또는 yolov8s.pt 등 다른 가중치 사용 가능"
   ]
  },
  {
   "cell_type": "code",
   "execution_count": null,
   "id": "01d70dfc",
   "metadata": {},
   "outputs": [],
   "source": [
    "results = model.train(\n",
    "    data=os.path.join('./data.yaml'),\n",
    "    epochs=1,       # 필요에 따라 조정\n",
    "    imgsz=640,\n",
    "    batch=16,        # 메모리에 따라 조정\n",
    "    device=0         # GPU 사용\n",
    ")\n"
   ]
  },
  {
   "cell_type": "markdown",
   "id": "c1196aa5",
   "metadata": {},
   "source": [
    "# 4. 모델 추론"
   ]
  },
  {
   "cell_type": "code",
   "execution_count": null,
   "id": "65549b48",
   "metadata": {},
   "outputs": [],
   "source": [
    "model = YOLO('runs/detect/train/weights/best.pt')"
   ]
  },
  {
   "cell_type": "code",
   "execution_count": null,
   "id": "2b906b5b",
   "metadata": {},
   "outputs": [],
   "source": [
    "# 단일 이미지 추론\n",
    "val_img_path = os.path.join(dataset_base_path, 'val/images/33_20210704_7454-0-0600.jpg')\n",
    "results = model.predict(val_img_path, save=True, conf=0.25, device=0)"
   ]
  },
  {
   "cell_type": "code",
   "execution_count": null,
   "id": "67145131",
   "metadata": {},
   "outputs": [],
   "source": [
    "# 전체 평가\n",
    "metrics = model.val(\n",
    "    data=os.path.join(root_path, 'data.yaml'),\n",
    "    batch=16,\n",
    "    imgsz=640,\n",
    "    device=0\n",
    ")\n",
    "print(metrics)\n",
    "# map50, map50-95, precision, recall 등 주요 지표 출력\n"
   ]
  }
 ],
 "metadata": {
  "kernelspec": {
   "display_name": "bigProject",
   "language": "python",
   "name": "python3"
  },
  "language_info": {
   "codemirror_mode": {
    "name": "ipython",
    "version": 3
   },
   "file_extension": ".py",
   "mimetype": "text/x-python",
   "name": "python",
   "nbconvert_exporter": "python",
   "pygments_lexer": "ipython3",
   "version": "3.11.13"
  }
 },
 "nbformat": 4,
 "nbformat_minor": 5
}
